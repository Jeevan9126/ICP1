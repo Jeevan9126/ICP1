{
  "nbformat": 4,
  "nbformat_minor": 0,
  "metadata": {
    "colab": {
      "provenance": []
    },
    "kernelspec": {
      "name": "python3",
      "display_name": "Python 3"
    },
    "language_info": {
      "name": "python"
    }
  },
  "cells": [
    {
      "cell_type": "code",
      "execution_count": 3,
      "metadata": {
        "colab": {
          "base_uri": "https://localhost:8080/"
        },
        "id": "xmztyAk-Aa1Y",
        "outputId": "da403ad5-1eb2-4569-f32a-3cf6a9300a53"
      },
      "outputs": [
        {
          "output_type": "stream",
          "name": "stdout",
          "text": [
            "Enter first name jeevan\n",
            "Enter last name nadi\n",
            "Full name jeevan nadi\n",
            "String with every other character jea ai\n"
          ]
        }
      ],
      "source": [
        "def fullname(first_name, last_name):\n",
        "    return first_name + \" \" + last_name\n",
        "\n",
        "def string_alternative(full_name):\n",
        "    return full_name[::2]\n",
        "\n",
        "def main():\n",
        "    # input from the user\n",
        "    first_name = input('Enter first name ')\n",
        "    last_name = input('Enter last name ')\n",
        "\n",
        "\n",
        "    full_name = fullname(first_name, last_name)\n",
        "    print('Full name', full_name)\n",
        "\n",
        "\n",
        "    alt_str = string_alternative(full_name)\n",
        "    print('String with every other character', alt_str)\n",
        "\n",
        "if __name__ == \"__main__\":\n",
        "    main()\n"
      ]
    },
    {
      "cell_type": "markdown",
      "source": [
        "In the above code first I have created two functions such as fullname and string alternative function which takes the input from the user as first name and last name.herew the full name fuctions the returns the full name of the user by string concatination and the second function returns the every alternative character fron the fullname."
      ],
      "metadata": {
        "id": "8HlFdMZVFuRS"
      }
    },
    {
      "cell_type": "code",
      "source": [
        "def word_count_in_line(line):\n",
        "    words = line.split()\n",
        "    word_count = {}\n",
        "    for word in words:\n",
        "        word = word.strip().strip('.,!?').capitalize()  # Capitalize\n",
        "        word_count[word] = word_count.get(word, 0) + 1\n",
        "    return word_count\n",
        "\n",
        "def main():\n",
        "        # Open the input file\n",
        "        with open(\"input.txt\", \"r\") as infile:\n",
        "            lines = infile.readlines()\n",
        "\n",
        "        # Create output file\n",
        "        with open(\"output.txt\", \"w\") as outfile:\n",
        "            for line in lines:\n",
        "                outfile.write(line)\n",
        "\n",
        "            outfile.write(\"\\nWord_Count:\\n\")\n",
        "\n",
        "            # Count words for each line and write to the output file\n",
        "            total_word_count = {}\n",
        "            for line in lines:\n",
        "                line_word_count = word_count_in_line(line)\n",
        "                for word, count in line_word_count.items():\n",
        "                    total_word_count[word] = total_word_count.get(word, 0) + count\n",
        "\n",
        "            # total word count to the output file\n",
        "            for word, count in total_word_count.items():\n",
        "                outfile.write(f\"{word}: {count}\\n\")\n",
        "\n",
        "        print(\"Word count has been written to output.txt\")\n",
        "\n",
        "\n",
        "if __name__ == \"__main__\":\n",
        "    main()\n"
      ],
      "metadata": {
        "colab": {
          "base_uri": "https://localhost:8080/"
        },
        "id": "yWXqQcwxB458",
        "outputId": "de57fc0e-3a09-4d16-dd4c-9312d18c96f6"
      },
      "execution_count": 9,
      "outputs": [
        {
          "output_type": "stream",
          "name": "stdout",
          "text": [
            "Word count has been written to output.txt\n"
          ]
        }
      ]
    },
    {
      "cell_type": "markdown",
      "source": [
        "word_count_in_line function separates a line of text into words and counts how many times each word appears. It also standardized the words by removing punctuation and capitalizing the initial letter.\n",
        "main function:\n",
        "\n",
        "Reads the content of input.txt.\n",
        "Writes each line to output.txt.\n",
        "After writing the lines, it calculates the word count for all lines combined and writes the word count to output.txt."
      ],
      "metadata": {
        "id": "9l6YWJ5SGzhA"
      }
    },
    {
      "cell_type": "code",
      "source": [
        "def inches_to_cm(inches):\n",
        "    return round(inches * 2.54, 2)\n",
        "\n",
        "def main():\n",
        "    # input heights from the user and storing them in a list (L1)\n",
        "    L1 = []\n",
        "    n = int(input(\"Enter the number of heights: \"))\n",
        "    for i in range(n):\n",
        "        height = float(input(f\"Enter height in inches L1 {i + 1}: \"))\n",
        "        L1.append(height)\n",
        "\n",
        "    #Nested Interactive Loop\n",
        "    L2_nested_loop = []\n",
        "    for height in L1:\n",
        "        cm_height = inches_to_cm(height)\n",
        "        L2_nested_loop.append(cm_height)\n",
        "\n",
        "    print(\"Converted heights using L2(nested):\", L2_nested_loop)\n",
        "\n",
        "    # List Comprehensions\n",
        "    L2_list_comprehension = [inches_to_cm(height) for height in L1]\n",
        "\n",
        "    print(\"Converted heights using L2(list comprehensions)\", L2_list_comprehension)\n",
        "\n",
        "if __name__ == \"__main__\":\n",
        "    main()\n"
      ],
      "metadata": {
        "colab": {
          "base_uri": "https://localhost:8080/"
        },
        "id": "YO_jOTVzEuU3",
        "outputId": "a33f14c4-97de-4659-fb29-b04602acb5d2"
      },
      "execution_count": 16,
      "outputs": [
        {
          "output_type": "stream",
          "name": "stdout",
          "text": [
            "Enter the number of heights: 4\n",
            "Enter height in inches L1 1: 52\n",
            "Enter height in inches L1 2: 52\n",
            "Enter height in inches L1 3: 52\n",
            "Enter height in inches L1 4: 52\n",
            "Converted heights using L2(nested): [132.08, 132.08, 132.08, 132.08]\n",
            "Converted heights using L2(list comprehensions) [132.08, 132.08, 132.08, 132.08]\n"
          ]
        }
      ]
    },
    {
      "cell_type": "markdown",
      "source": [
        "inches to cm function converts the heights in inches to cm by multiplying 2.54 and rounding off two digits.\n",
        "\n",
        "\n",
        "Nested Interactive Loop:\n",
        "\n",
        "It then iterates through the list L1  and converts each height to centimeters using the inches_to_cm function.\n",
        "The converted heights are stored in L2_nested_loop.\n",
        "\n",
        "List Comprehensions:\n",
        "\n",
        "This piece of code performs the same conversion using a list comprehension,the converted heights are stored in L2_list_comprehension.\n"
      ],
      "metadata": {
        "id": "VijeMCpBIQdG"
      }
    }
  ]
}